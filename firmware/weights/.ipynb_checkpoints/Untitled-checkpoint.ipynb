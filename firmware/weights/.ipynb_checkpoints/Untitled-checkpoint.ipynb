{
 "cells": [
  {
   "cell_type": "code",
   "execution_count": 1,
   "id": "2e091439",
   "metadata": {},
   "outputs": [
    {
     "name": "stdout",
     "output_type": "stream",
     "text": [
      "73728\n"
     ]
    }
   ],
   "source": [
    "with open(\"w27.txt\",'r') as data_file:\n",
    "    for line in data_file:\n",
    "        data = line.split()\n",
    "#         print(data)\n",
    "        print(len(data))\n",
    "\n"
   ]
  },
  {
   "cell_type": "code",
   "execution_count": 9,
   "id": "218e866e",
   "metadata": {},
   "outputs": [
    {
     "name": "stdout",
     "output_type": "stream",
     "text": [
      "model_weightdefault_t  w4.txt [ 400 ]\n",
      "model_weightdefault_t  w8.txt [ 3153920 ]\n",
      "model_weightdefault_t  w12.txt [ 65536 ]\n",
      "model_weightdefault_t  w22.txt [ 36864 ]\n",
      "model_weightdefault_t  w27.txt [ 73728 ]\n",
      "model_weightdefault_t  w18.txt [ 18432 ]\n",
      "model_weightdefault_t  w9.txt [ 4608 ]\n",
      "model_weightdefault_t  w13.txt [ 9216 ]\n",
      "model_weightdefault_t  w45.txt [ 589824 ]\n",
      "model_weightdefault_t  w36.txt [ 294912 ]\n",
      "model_weightdefault_t  w53.txt [ 256 ]\n",
      "model_weightdefault_t  w31.txt [ 147456 ]\n",
      "model_weightdefault_t  w49.txt [ 65536 ]\n",
      "model_weightdefault_t  w40.txt [ 589824 ]\n",
      "model_weightdefault_t  w16.txt [ 256 ]\n"
     ]
    }
   ],
   "source": [
    "import os\n",
    "\n",
    "directory = os.fsencode(\"./\")\n",
    "    \n",
    "for file in os.listdir(directory):\n",
    "    filename = os.fsdecode(file)\n",
    "    if \".ipynb\" in filename:\n",
    "        continue\n",
    "#     print(filename)\n",
    "    with open(filename,'r') as data_file:\n",
    "        for line in data_file:\n",
    "            if \"w\" in filename and \".txt\" in filename:\n",
    "                data = line.split()\n",
    "                print(\"model_weightdefault_t \", filename, \"[\", len(data), \"]\")\n"
   ]
  },
  {
   "cell_type": "code",
   "execution_count": null,
   "id": "fd0f352b",
   "metadata": {},
   "outputs": [],
   "source": [
    "model_weightdefault_t  w4 [ 400 ]\n",
    "model_weightdefault_t  w8[ 3153920 ]\n",
    "model_weightdefault_t  w12 [ 65536 ]\n",
    "model_weightdefault_t  w22 [ 36864 ]\n",
    "model_weightdefault_t  w27 [ 73728 ]\n",
    "model_weightdefault_t  w18 [ 18432 ]\n",
    "model_weightdefault_t  w9 [ 4608 ]\n",
    "model_weightdefault_t  w13 [ 9216 ]\n",
    "model_weightdefault_t  w45 [ 589824 ]\n",
    "model_weightdefault_t  w36 [ 294912 ]\n",
    "model_weightdefault_t  w53 [ 256 ]\n",
    "model_weightdefault_t  w31 [ 147456 ]\n",
    "model_weightdefault_t  w49 [ 65536 ]\n",
    "model_weightdefault_t  w40 [ 589824 ]\n",
    "model_weightdefault_t  w16 [ 256 ]\n"
   ]
  }
 ],
 "metadata": {
  "kernelspec": {
   "display_name": "Python 3 (ipykernel)",
   "language": "python",
   "name": "python3"
  },
  "language_info": {
   "codemirror_mode": {
    "name": "ipython",
    "version": 3
   },
   "file_extension": ".py",
   "mimetype": "text/x-python",
   "name": "python",
   "nbconvert_exporter": "python",
   "pygments_lexer": "ipython3",
   "version": "3.8.10"
  }
 },
 "nbformat": 4,
 "nbformat_minor": 5
}
